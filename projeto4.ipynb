{
  "nbformat": 4,
  "nbformat_minor": 0,
  "metadata": {
    "colab": {
      "provenance": [],
      "authorship_tag": "ABX9TyPXRfFOGNtPNyz6igkfsttX",
      "include_colab_link": true
    },
    "kernelspec": {
      "name": "python3",
      "display_name": "Python 3"
    },
    "language_info": {
      "name": "python"
    }
  },
  "cells": [
    {
      "cell_type": "markdown",
      "metadata": {
        "id": "view-in-github",
        "colab_type": "text"
      },
      "source": [
        "<a href=\"https://colab.research.google.com/github/joicesilva2/atividade/blob/main/projeto4.ipynb\" target=\"_parent\"><img src=\"https://colab.research.google.com/assets/colab-badge.svg\" alt=\"Open In Colab\"/></a>"
      ]
    },
    {
      "cell_type": "code",
      "execution_count": 5,
      "metadata": {
        "id": "DHsGsLaYqv0X",
        "colab": {
          "base_uri": "https://localhost:8080/"
        },
        "outputId": "84f405c8-4155-48f5-f457-77cc3abd8061"
      },
      "outputs": [
        {
          "output_type": "stream",
          "name": "stdout",
          "text": [
            "########################################\n",
            "Relatório Semanal de Ganhos e Despesas\n",
            "########################################\n",
            "\n",
            "Ganhos:\n",
            "Soma total dos ganhos: R$26325.00\n",
            "Média semanal dos ganhos: R$3760.71\n",
            "Soma total dos ganhos líquidos (após impostos): R$24482.25\n",
            "Média semanal dos ganhos líquidos (após impostos): R$3497.46\n",
            "\n",
            "Despesas:\n",
            "Soma total das despesas: R$7904.13\n",
            "Média semanal de todas as despesas: R$1129.16\n",
            "Soma total das despesas:R$7904.13\n",
            "\n",
            "lucro diario:\n",
            "\n",
            "Lucro:\n",
            "Lucro diário total da semana: R$16578.12\n",
            "Dia mais lucrativo: Sexta\n"
          ]
        }
      ],
      "source": [
        "import pandas as pd\n",
        "\n",
        "\n",
        "# Dadois das receitas\n",
        "receitas = {'DiaSemana':['Segunda','Terça','Quarta','Quinta','Sexta','Sábado','Domingo'],\n",
        "         'valReceitas':[2200,2420.50,3391,5322,4898.50,4200,3893]}\n",
        "df_receitas = pd.DataFrame(receitas)\n",
        "\n",
        "# Dados das despesas\n",
        "despesas = {'DiaSemana':['Segunda','Terça','Quarta','Quinta','Sexta','Sábado','Domingo'],\n",
        "           'Limpeza':[100,0,100,0,100,100,0],\n",
        "           'Comida':[221.60,375,412,495,411.53,245,164],\n",
        "            'Transporte':[150,100,125,300,275,525,75],\n",
        "            'Outros':[0,0,2310,500,0,0,820]}    \n",
        "# criando um dataframe com as despesas da semana\n",
        "despesas_df = pd.DataFrame(despesas)\n",
        "\n",
        "# criando uma lista com os ganhos diários\n",
        "ganhos = [2200, 2420.50, 3391, 5322, 4898.50, 4200, 3893]\n",
        "\n",
        "# calculando a subtração de impostos dos ganhos diários\n",
        "ganhos_liquidos = [g * 0.93 for g in ganhos]\n",
        "\n",
        "# calculando a soma total dos ganhos e dos ganhos líquidos\n",
        "soma_ganhos = sum(ganhos)\n",
        "soma_ganhos_liquidos = sum(ganhos_liquidos)\n",
        "\n",
        "# calculando a média semanal dos ganhos\n",
        "media_ganhos = soma_ganhos / 7\n",
        "media_ganhos_liquidos = soma_ganhos_liquidos / 7\n",
        "\n",
        "# calculando a soma total das despesas por categoria\n",
        "soma_limpeza = despesas_df['Limpeza'].sum()\n",
        "soma_comida = despesas_df['Comida'].sum()\n",
        "soma_transporte = despesas_df['Transporte'].sum()\n",
        "soma_outros = despesas_df['Outros'].sum()\n",
        "\n",
        "# calculando a soma total das despesas e a média semanal de todas as despesas\n",
        "# calculando a soma total das despesas e a média semanal de todas as despesas\n",
        "soma_despesas = despesas_df.drop('DiaSemana', axis=1).sum().sum()\n",
        "media_despesas = soma_despesas / 7\n",
        "\n",
        "\n",
        "# calculando o lucro diário e o lucro total da semana\n",
        "# criando um dicionário com os valores de lucro diário associados aos dias da semana\n",
        "lucro_por_dia = {dia: lucro for dia, lucro in zip(despesas_df['DiaSemana'], lucro_diario)}\n",
        "\n",
        "# encontrando o dia com o maior lucro\n",
        "dia_mais_lucrativo = max(lucro_por_dia, key=lucro_por_dia.get)\n",
        "\n",
        "# criando o relatório\n",
        "print(\"#\"*40)\n",
        "print(\"Relatório Semanal de Ganhos e Despesas\")\n",
        "print(\"#\"*40)\n",
        "\n",
        "print(\"\\nGanhos:\")\n",
        "print(\"Soma total dos ganhos: R${:.2f}\".format(soma_ganhos))\n",
        "print(\"Média semanal dos ganhos: R${:.2f}\".format(media_ganhos))\n",
        "print(\"Soma total dos ganhos líquidos (após impostos): R${:.2f}\".format(soma_ganhos_liquidos))\n",
        "print(\"Média semanal dos ganhos líquidos (após impostos): R${:.2f}\".format(media_ganhos_liquidos))\n",
        "\n",
        "print(\"\\nDespesas:\")\n",
        "print(\"Soma total das despesas: R${:.2f}\".format(soma_despesas))\n",
        "print(\"Média semanal de todas as despesas: R${:.2f}\".format(media_despesas))\n",
        "print(\"Soma total das despesas:R${:.2F}\".format(soma_despesas))\n",
        "\n",
        "print(\"\\nlucro diario:\")\n",
        "# imprimindo o resultado\n",
        "print(\"\\nLucro:\")\n",
        "print(\"Lucro diário total da semana: R${:.2f}\".format(lucro_total))\n",
        "print(\"Dia mais lucrativo: {}\".format(dia_mais_lucrativo))"
      ]
    },
    {
      "cell_type": "markdown",
      "source": [
        "#Projeto individual4#\n",
        "\n",
        "\n",
        "O código apresentado é uma análise de dados financeiros de uma semana. Ele começa com a criação de dois dicionários: um com as receitas diárias e outro com as despesas diárias. Em seguida, esses dicionários são convertidos em dois DataFrames usando a biblioteca pandas.\n",
        "\n",
        "Após a criação dos DataFrames, é criada uma lista com os ganhos diários e é calculado o valor líquido de cada ganho, subtraindo 7% de impostos. Em seguida, são calculadas a soma total dos ganhos e a média semanal dos ganhos, tanto bruto quanto líquido.\n",
        "\n",
        "Também é calculada a soma total das despesas por categoria e a soma total das despesas. A média semanal de todas as despesas é calculada a partir da soma total das despesas dividida pelo número de dias na semana.\n",
        "\n",
        "Finalmente, é calculado o lucro diário e o lucro total da semana. O lucro diário é calculado subtraindo as despesas do ganho líquido de cada dia e o lucro total é a soma desses valores.\n",
        "\n",
        "O resultado é apresentado em um relatório que inclui a soma total dos ganhos, a média semanal dos ganhos, a soma total dos ganhos líquidos, a média semanal dos ganhos líquidos, a soma total das despesas, a média semanal de todas as despesas, a soma total das despesas por categoria, o lucro diário e o lucro total da semana.\n",
        "\n",
        "O relatório é apresentado de forma organizada, com textos explicativos e formatado com precisão utilizando o método format da linguagem Python.\n",
        "\n",
        "\n"
      ],
      "metadata": {
        "id": "hj2OV_H5ftby"
      }
    }
  ]
}